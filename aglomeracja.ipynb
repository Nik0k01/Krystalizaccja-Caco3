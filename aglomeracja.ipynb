{
 "cells": [
  {
   "cell_type": "code",
   "execution_count": 25,
   "metadata": {},
   "outputs": [],
   "source": [
    "import numpy as np\n",
    "import matplotlib.pyplot as plt\n",
    "import scipy.integrate as integrate\n",
    "import scipy.signal as signal"
   ]
  },
  {
   "cell_type": "code",
   "execution_count": 26,
   "metadata": {},
   "outputs": [],
   "source": [
    "# x = np.array([i for i in range(5, 56, 5)])\n",
    "# x = x * 1e-9\n",
    "# y = norm.pdf(x, loc=30e-9, scale=8e-9)\n",
    "# y = y / np.sum(y)\n",
    "# y = y * 1e3\n",
    "# plt.plot(x, y)\n",
    "x = np.asarray([30e-9]) # m\n",
    "y = np.asarray([100]) # #/m3\n",
    "density_dist = y / x # #/m4\n"
   ]
  },
  {
   "cell_type": "code",
   "execution_count": 27,
   "metadata": {},
   "outputs": [
    {
     "ename": "IndentationError",
     "evalue": "expected an indented block (2984220760.py, line 24)",
     "output_type": "error",
     "traceback": [
      "\u001b[1;36m  Cell \u001b[1;32mIn[27], line 24\u001b[1;36m\u001b[0m\n\u001b[1;33m    \u001b[0m\n\u001b[1;37m    ^\u001b[0m\n\u001b[1;31mIndentationError\u001b[0m\u001b[1;31m:\u001b[0m expected an indented block\n"
     ]
    }
   ],
   "source": [
    "# Stała agregacji\n",
    "k_a = 2.3\n",
    "g = 2.0\n",
    "# Stopień przesycenia roztworu\n",
    "lambda_s = 4\n",
    "l_1 = x[-1]\n",
    "l_2 = x[-1]\n",
    "\n",
    "\n",
    "\n",
    "def beta_kernel(start_size: float, size_diff: list[float]):\n",
    "    a = size_diff[0]\n",
    "    b = size_diff[1]\n",
    "    return k_a * (lambda_s - 1) ** g * (start_size + (a ** 3 - b ** 3) ** (1/3))\n",
    "\n",
    "beta_birth = beta_kernel(l_1, [l_2, l_1])\n",
    "beta_death = beta_kernel(l_1, [l_2, 0])\n",
    "\n",
    "sizes = np.linspace(30e-9, 1000e-9, 1000)\n",
    "initial_dist = signal.unit_impulse(1000, 0, dtype=np.float64) * 100\n",
    "\n",
    "def aggregation_rate(end_size: float, start_size: float, distrbution):\n",
    "    \n",
    "    def birth_func():\n",
    "        a = (beta_kernel(start_size, [end_size, start_size]) * integrate.trapezoid(initial_dist[2:4], sizes[2:4]) * \n",
    "             integrate.trapezoid(initial_dist[:3], sizes[:3]))\n",
    "        return a\n",
    "        \n",
    "    birth = end_size / 2 * integrate.quad()\n",
    "    "
   ]
  },
  {
   "cell_type": "code",
   "execution_count": 11,
   "metadata": {},
   "outputs": [
    {
     "name": "stdout",
     "output_type": "stream",
     "text": [
      "sum = 100\n",
      "0.006209999999999999\n"
     ]
    }
   ],
   "source": [
    "birth = 0\n",
    "for i in range(len(x)):\n",
    "    b =  beta[i] * y[i] * sum(y[i:])\n",
    "    print(f'sum = {sum(y[i:])}')\n",
    "    print(b)\n",
    "    birth = b + birth\n",
    "birth = birth * x[-1] / 2\n",
    "    \n",
    "death = 0\n",
    "for i in range(len(x)):\n",
    "    d = beta[i] * y[i]\n",
    "    death = d + death\n",
    "death = death * y[-1]\n"
   ]
  },
  {
   "cell_type": "code",
   "execution_count": 22,
   "metadata": {},
   "outputs": [
    {
     "data": {
      "text/plain": [
       "[<matplotlib.lines.Line2D at 0x219190d0070>]"
      ]
     },
     "execution_count": 22,
     "metadata": {},
     "output_type": "execute_result"
    },
    {
     "data": {
      "image/png": "[encoded data removed]",
      "text/plain": [
       "<Figure size 640x480 with 1 Axes>"
      ]
     },
     "metadata": {},
     "output_type": "display_data"
    }
   ],
   "source": [
    "import matplotlib.pyplot as plt\n",
    "import scipy.signal as signal\n",
    "sizes = np.linspace(30e-9, 1000e-9, 1000)\n",
    "a_signal = signal.unit_impulse(1000, 0, dtype=np.float64)\n",
    "plt.plot(sizes, a_signal)"
   ]
  },
  {
   "cell_type": "code",
   "execution_count": 12,
   "metadata": {},
   "outputs": [
    {
     "data": {
      "text/plain": [
       "9.314999999999998e-11"
      ]
     },
     "execution_count": 12,
     "metadata": {},
     "output_type": "execute_result"
    }
   ],
   "source": [
    "birth"
   ]
  },
  {
   "cell_type": "code",
   "execution_count": 13,
   "metadata": {},
   "outputs": [
    {
     "data": {
      "text/plain": [
       "0.006209999999999999"
      ]
     },
     "execution_count": 13,
     "metadata": {},
     "output_type": "execute_result"
    }
   ],
   "source": [
    "death"
   ]
  },
  {
   "cell_type": "code",
   "execution_count": null,
   "metadata": {},
   "outputs": [],
   "source": []
  }
 ],
 "metadata": {
  "kernelspec": {
   "display_name": "Python 3",
   "language": "python",
   "name": "python3"
  },
  "language_info": {
   "codemirror_mode": {
    "name": "ipython",
    "version": 3
   },
   "file_extension": ".py",
   "mimetype": "text/x-python",
   "name": "python",
   "nbconvert_exporter": "python",
   "pygments_lexer": "ipython3",
   "version": "3.9.10"
  },
  "orig_nbformat": 4
 },
 "nbformat": 4,
 "nbformat_minor": 2
}
