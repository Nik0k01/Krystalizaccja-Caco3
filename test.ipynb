{
 "cells": [
  {
   "cell_type": "code",
   "execution_count": 22,
   "metadata": {},
   "outputs": [
    {
     "name": "stdout",
     "output_type": "stream",
     "text": [
      "first size=1.5000000000000002e-07\n",
      "total size=7.399999999999999e-07\n",
      "first size=1.8000000000000002e-07\n",
      "total size=5.599999999999999e-07\n",
      "first size=1.8000000000000002e-07\n",
      "total size=3.799999999999999e-07\n",
      "first size=3.0000000000000004e-08\n",
      "total size=3.4999999999999993e-07\n",
      "first size=3.0000000000000004e-08\n",
      "total size=3.199999999999999e-07\n",
      "first size=1.5000000000000002e-07\n",
      "total size=1.6999999999999988e-07\n"
     ]
    }
   ],
   "source": [
    "import random\n",
    "import numpy as np \n",
    "\n",
    "def collision_handler(total_size, size_list=None):\n",
    "    if size_list is None:\n",
    "        size_list = []\n",
    "        \n",
    "    if total_size > 210e-9:\n",
    "        first_size = random.choice(np.array([30, 60, 90, 120, 150, 180]) * 1e-9)\n",
    "        print(f\"first size={first_size}\")\n",
    "        total_size = total_size - first_size\n",
    "        print(f\"total size={total_size}\")\n",
    "        collision_handler(total_size)\n",
    "    else:\n",
    "        first_size = total_size\n",
    "        size_list.append(first_size)\n",
    "    return size_list\n",
    "\n",
    "total_size = 890e-9\n",
    "\n",
    "collision_handler(total_size)    "
   ]
  },
  {
   "cell_type": "code",
   "execution_count": 45,
   "metadata": {},
   "outputs": [],
   "source": [
    "import numpy as np\n",
    "import pandas as pd\n",
    "import random\n",
    "from scipy.stats import chi\n",
    "\n",
    "def collision_handler(total_size, size_list=None):\n",
    "    if size_list is None:\n",
    "        size_list = []\n",
    "        \n",
    "    if total_size > 210e-9:\n",
    "        first_size = random.choice(np.array([30, 60, 90, 120, 150, 180]) * 1e-9)\n",
    "        total_size = total_size - first_size\n",
    "        collision_handler(total_size, size_list)\n",
    "    else:\n",
    "        first_size = total_size\n",
    "        size_list.append(first_size)\n",
    "    return size_list\n",
    "\n",
    "crystal_size = 30e-9\n",
    "crystal_per_loop = 54\n",
    "\n",
    "rpm = 120\n",
    "loops_num = 14 * rpm\n",
    "\n",
    "crystal_array = np.array([])\n",
    "df = 3\n",
    "new_crystals = np.ones(crystal_per_loop) * crystal_size\n",
    "for _ in range(loops_num):\n",
    "    crystal_array = np.append(crystal_array, new_crystals)\n",
    "    np.random.shuffle(crystal_array)\n",
    "    crystal_series = pd.Series(crystal_array, copy=True)\n",
    "\n",
    "    x = np.arange(1, len(crystal_array))\n",
    "    probabils = chi.pdf(x, df, round(len(crystal_array) / 35), len(crystal_array)/10)\n",
    "    if sum(probabils) < 1:\n",
    "        probabils[0] += 1 - sum(probabils) \n",
    "    num_to_remove = np.random.choice(x, size=1, p=probabils)\n",
    "    \n",
    "    if num_to_remove % 2 != 0:\n",
    "        num_to_remove += 1\n",
    "        \n",
    "    indx_to_remove = random.sample(list(crystal_series.index), num_to_remove.item())\n",
    "    \n",
    "    crystals_to_merge = np.array(crystal_series[indx_to_remove], copy=True)\n",
    "    np.random.shuffle(crystals_to_merge)\n",
    "    crystals_paired = crystals_to_merge.reshape([-1, 2])\n",
    "    crystals_merged = []\n",
    "    for pair in crystals_paired:\n",
    "        if (pair[0] == 210e-9) or (pair[1] == 210e-9) or(pair[0] + pair[1] > 210e-9):\n",
    "            destruction_result = collision_handler(np.sum(pair))\n",
    "            crystals_merged.extend(destruction_result)\n",
    "        else:\n",
    "            new_crystal = pair[0] + pair[1]\n",
    "            crystals_merged.append(new_crystal)\n",
    "    crystals_merged = np.array(crystals_merged)\n",
    "    \n",
    "    crystal_series = crystal_series.drop(indx_to_remove)    \n",
    "    crystal_array = np.append(crystals_merged, crystal_series.to_numpy(copy=True))\n"
   ]
  },
  {
   "cell_type": "code",
   "execution_count": 46,
   "metadata": {},
   "outputs": [
    {
     "data": {
      "text/plain": [
       "(array([175.,  58.,  47.,  29.,  33.,  30.,  42.]),\n",
       " array([3.00000000e-08, 5.57142857e-08, 8.14285714e-08, 1.07142857e-07,\n",
       "        1.32857143e-07, 1.58571429e-07, 1.84285714e-07, 2.10000000e-07]),\n",
       " <BarContainer object of 7 artists>)"
      ]
     },
     "execution_count": 46,
     "metadata": {},
     "output_type": "execute_result"
    },
    {
     "data": {
      "image/png": "[encoded data removed]",
      "text/plain": [
       "<Figure size 640x480 with 1 Axes>"
      ]
     },
     "metadata": {},
     "output_type": "display_data"
    }
   ],
   "source": [
    "import matplotlib.pyplot as plt\n",
    "plt.hist(crystal_array, bins=7)\n"
   ]
  },
  {
   "cell_type": "code",
   "execution_count": 47,
   "metadata": {},
   "outputs": [
    {
     "data": {
      "text/plain": [
       "414"
      ]
     },
     "execution_count": 47,
     "metadata": {},
     "output_type": "execute_result"
    }
   ],
   "source": [
    "len(crystal_array)"
   ]
  },
  {
   "cell_type": "code",
   "execution_count": 29,
   "metadata": {},
   "outputs": [
    {
     "data": {
      "text/plain": [
       "90720"
      ]
     },
     "execution_count": 29,
     "metadata": {},
     "output_type": "execute_result"
    }
   ],
   "source": [
    "loops_num * 54"
   ]
  },
  {
   "cell_type": "code",
   "execution_count": 17,
   "metadata": {},
   "outputs": [],
   "source": [
    "import xlwings as xw\n",
    "xw.view(data)"
   ]
  },
  {
   "cell_type": "code",
   "execution_count": 20,
   "metadata": {},
   "outputs": [
    {
     "data": {
      "text/plain": [
       "0    1\n",
       "1    2\n",
       "dtype: int64"
      ]
     },
     "execution_count": 20,
     "metadata": {},
     "output_type": "execute_result"
    }
   ],
   "source": [
    "data.iloc[[0, 1]]"
   ]
  },
  {
   "cell_type": "code",
   "execution_count": 18,
   "metadata": {},
   "outputs": [
    {
     "data": {
      "text/plain": [
       "0.0013495800000000043"
      ]
     },
     "execution_count": 18,
     "metadata": {},
     "output_type": "execute_result"
    }
   ],
   "source": [
    "data.max()"
   ]
  },
  {
   "cell_type": "code",
   "execution_count": 19,
   "metadata": {},
   "outputs": [
    {
     "data": {
      "text/plain": [
       "3e-08"
      ]
     },
     "execution_count": 19,
     "metadata": {},
     "output_type": "execute_result"
    }
   ],
   "source": [
    "data.min()"
   ]
  },
  {
   "cell_type": "code",
   "execution_count": 20,
   "metadata": {},
   "outputs": [
    {
     "data": {
      "text/plain": [
       "6e-08"
      ]
     },
     "execution_count": 20,
     "metadata": {},
     "output_type": "execute_result"
    }
   ],
   "source": [
    "data.median()"
   ]
  },
  {
   "cell_type": "code",
   "execution_count": 21,
   "metadata": {},
   "outputs": [
    {
     "data": {
      "text/plain": [
       "8.222356495468291e-06"
      ]
     },
     "execution_count": 21,
     "metadata": {},
     "output_type": "execute_result"
    }
   ],
   "source": [
    "data.mean()"
   ]
  },
  {
   "cell_type": "code",
   "execution_count": null,
   "metadata": {},
   "outputs": [],
   "source": []
  }
 ],
 "metadata": {
  "kernelspec": {
   "display_name": "Python 3",
   "language": "python",
   "name": "python3"
  },
  "language_info": {
   "codemirror_mode": {
    "name": "ipython",
    "version": 3
   },
   "file_extension": ".py",
   "mimetype": "text/x-python",
   "name": "python",
   "nbconvert_exporter": "python",
   "pygments_lexer": "ipython3",
   "version": "3.12.0"
  }
 },
 "nbformat": 4,
 "nbformat_minor": 2
}
